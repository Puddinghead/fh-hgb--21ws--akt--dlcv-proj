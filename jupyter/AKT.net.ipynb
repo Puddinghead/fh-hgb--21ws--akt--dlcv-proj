{
 "cells": [
  {
   "cell_type": "code",
   "execution_count": 1,
   "metadata": {},
   "outputs": [],
   "source": [
    "import tensorflow as tf\n",
    "%matplotlib inline\n",
    "import matplotlib.pylab as plt\n",
    "import numpy as np\n",
    "import pathlib\n",
    "import PIL\n",
    "import PIL.Image"
   ]
  },
  {
   "cell_type": "code",
   "execution_count": 2,
   "metadata": {},
   "outputs": [],
   "source": [
    "data_dir = pathlib.Path('./data')\n",
    "data = list(data_dir.glob('*/*.*'))"
   ]
  },
  {
   "cell_type": "code",
   "execution_count": 7,
   "metadata": {},
   "outputs": [
    {
     "name": "stdout",
     "output_type": "stream",
     "text": [
      "Found 555 files belonging to 2 classes.\n",
      "Using 444 files for training.\n"
     ]
    }
   ],
   "source": [
    "batch_size = 17\n",
    "img_height = 227\n",
    "img_width = 227\n",
    "\n",
    "\n",
    "\n",
    "train_ds = tf.keras.utils.image_dataset_from_directory(\n",
    "  data_dir,\n",
    "  validation_split=0.2,\n",
    "  subset=\"training\",\n",
    "  seed=123,\n",
    "  image_size=(img_height, img_width),\n",
    "  batch_size=batch_size)"
   ]
  },
  {
   "cell_type": "code",
   "execution_count": 8,
   "metadata": {},
   "outputs": [
    {
     "name": "stdout",
     "output_type": "stream",
     "text": [
      "<BatchDataset shapes: ((None, 227, 227, 3), (None,)), types: (tf.float32, tf.int32)>\n"
     ]
    }
   ],
   "source": [
    "print(train_ds)"
   ]
  },
  {
   "cell_type": "code",
   "execution_count": 15,
   "metadata": {
    "scrolled": true
   },
   "outputs": [
    {
     "name": "stdout",
     "output_type": "stream",
     "text": [
      "Model: \"sequential_3\"\n",
      "_________________________________________________________________\n",
      "Layer (type)                 Output Shape              Param #   \n",
      "=================================================================\n",
      "resnet50v2 (Functional)      (None, 2048)              23564800  \n",
      "_________________________________________________________________\n",
      "dense_9 (Dense)              (None, 512)               1049088   \n",
      "_________________________________________________________________\n",
      "dense_10 (Dense)             (None, 256)               131328    \n",
      "_________________________________________________________________\n",
      "dense_11 (Dense)             (None, 2)                 514       \n",
      "=================================================================\n",
      "Total params: 24,745,730\n",
      "Trainable params: 24,700,290\n",
      "Non-trainable params: 45,440\n",
      "_________________________________________________________________\n"
     ]
    }
   ],
   "source": [
    "base_model = tf.keras.applications.resnet_v2.ResNet50V2(\n",
    "        include_top=False,\n",
    "        pooling='max',\n",
    "        input_shape=(img_height, img_width, 3),\n",
    "        weights='imagenet')\n",
    "\n",
    "model = tf.keras.Sequential([\n",
    "    base_model,\n",
    "    tf.keras.layers.Dense(512, 'relu'),\n",
    "    tf.keras.layers.Dense(256, 'relu'),\n",
    "    tf.keras.layers.Dense(2, 'softmax')\n",
    "])\n",
    "    \n",
    "model.summary()"
   ]
  },
  {
   "cell_type": "code",
   "execution_count": 16,
   "metadata": {},
   "outputs": [],
   "source": [
    "snapshot_callback = tf.keras.callbacks.ModelCheckpoint(\n",
    "    filepath=\"./snapshots\",\n",
    "    verbose=1)"
   ]
  },
  {
   "cell_type": "code",
   "execution_count": 18,
   "metadata": {
    "scrolled": false
   },
   "outputs": [
    {
     "name": "stdout",
     "output_type": "stream",
     "text": [
      "Epoch 1/30\n",
      "2/2 [==============================] - 8s 1s/step - loss: 91.9401 - sparse_categorical_accuracy: 0.6471\n",
      "Epoch 2/30\n",
      "2/2 [==============================] - 3s 1s/step - loss: 91.9715 - sparse_categorical_accuracy: 0.5000\n",
      "Epoch 3/30\n",
      "2/2 [==============================] - 3s 2s/step - loss: 53.5665 - sparse_categorical_accuracy: 0.6471\n",
      "Epoch 4/30\n",
      "2/2 [==============================] - 3s 1s/step - loss: 15.9783 - sparse_categorical_accuracy: 0.7941\n",
      "Epoch 5/30\n",
      "2/2 [==============================] - 3s 1s/step - loss: 6.7833 - sparse_categorical_accuracy: 0.7941\n",
      "Epoch 6/30\n",
      "2/2 [==============================] - 3s 1s/step - loss: 18.6340 - sparse_categorical_accuracy: 0.6176\n",
      "Epoch 7/30\n",
      "2/2 [==============================] - 3s 2s/step - loss: 0.0000e+00 - sparse_categorical_accuracy: 1.0000\n",
      "Epoch 8/30\n",
      "2/2 [==============================] - 3s 2s/step - loss: 5.7679 - sparse_categorical_accuracy: 0.9412\n",
      "Epoch 9/30\n",
      "2/2 [==============================] - 3s 2s/step - loss: 5.8252 - sparse_categorical_accuracy: 0.9118\n",
      "Epoch 10/30\n",
      "2/2 [==============================] - 3s 1s/step - loss: 9.1674 - sparse_categorical_accuracy: 0.8824\n",
      "Epoch 11/30\n",
      "2/2 [==============================] - 3s 2s/step - loss: 15.0866 - sparse_categorical_accuracy: 0.8235\n",
      "Epoch 12/30\n",
      "2/2 [==============================] - 4s 2s/step - loss: 15.3808 - sparse_categorical_accuracy: 0.7647\n",
      "Epoch 13/30\n",
      "2/2 [==============================] - 3s 1s/step - loss: 4.7029 - sparse_categorical_accuracy: 0.8529\n",
      "Epoch 14/30\n",
      "1/2 [==============>...............] - ETA: 0s - loss: 0.0000e+00 - sparse_categorical_accuracy: 1.0000WARNING:tensorflow:Your input ran out of data; interrupting training. Make sure that your dataset or generator can generate at least `steps_per_epoch * epochs` batches (in this case, 60 batches). You may need to use the repeat() function when building your dataset.\n",
      "2/2 [==============================] - 0s 56ms/step - loss: 0.0000e+00 - sparse_categorical_accuracy: 1.0000\n"
     ]
    }
   ],
   "source": [
    "for layer in base_model.layers:\n",
    "    layer.trainable = False\n",
    "    \n",
    "model.compile(optimizer='adam',\n",
    "              loss='sparse_categorical_crossentropy',\n",
    "              metrics=['sparse_categorical_accuracy'])\n",
    "\n",
    "history = model.fit(\n",
    "    train_ds,\n",
    "    steps_per_epoch=2, #use way more steps here: number of samples / batch size\n",
    "    epochs=30 #use way more or use EarlyStopping callback\n",
    ")"
   ]
  },
  {
   "cell_type": "code",
   "execution_count": null,
   "metadata": {},
   "outputs": [],
   "source": []
  },
  {
   "cell_type": "code",
   "execution_count": null,
   "metadata": {},
   "outputs": [],
   "source": []
  }
 ],
 "metadata": {
  "kernelspec": {
   "display_name": "Python 3",
   "language": "python",
   "name": "python3"
  },
  "language_info": {
   "codemirror_mode": {
    "name": "ipython",
    "version": 3
   },
   "file_extension": ".py",
   "mimetype": "text/x-python",
   "name": "python",
   "nbconvert_exporter": "python",
   "pygments_lexer": "ipython3",
   "version": "3.6.9"
  }
 },
 "nbformat": 4,
 "nbformat_minor": 2
}
